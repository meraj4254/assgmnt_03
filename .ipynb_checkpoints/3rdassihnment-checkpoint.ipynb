{
 "cells": [
  {
   "cell_type": "code",
   "execution_count": null,
   "id": "d1c0787e",
   "metadata": {},
   "outputs": [],
   "source": [
    "# q-1)  Write a Python function to sum all the numbers in a list.\n",
    "\n",
    "\n",
    "\n",
    "# Sample List : (8, 2, 3, 0, 7)\n",
    "\n",
    "# Expected Output : 20"
   ]
  },
  {
   "cell_type": "code",
   "execution_count": 1,
   "id": "b75e36ab",
   "metadata": {},
   "outputs": [
    {
     "name": "stdout",
     "output_type": "stream",
     "text": [
      "20\n"
     ]
    }
   ],
   "source": [
    "#ans-1\n",
    " \n",
    "def sum_list(num):\n",
    "    sum_number = 0\n",
    "    for x in num:\n",
    "        sum_number += x\n",
    "    return sum_number\n",
    "print(sum_list([8,2,3,0,7]))"
   ]
  },
  {
   "cell_type": "code",
   "execution_count": 2,
   "id": "60223238",
   "metadata": {},
   "outputs": [
    {
     "name": "stdout",
     "output_type": "stream",
     "text": [
      "dcba4321\n"
     ]
    }
   ],
   "source": [
    "#Q-2) Write a Python program to reverse a string.\n",
    "\n",
    "\n",
    "\n",
    "# Sample String : \"1234abcd\"\n",
    "\n",
    "# Expected Output : \"dcba4321\"\n",
    "\n",
    "\n",
    "s =\"1234abcd\"\n",
    "for i in s:\n",
    "    \n",
    "    print(s[::-1])\n",
    "    break\n"
   ]
  },
  {
   "cell_type": "code",
   "execution_count": null,
   "id": "60420eab",
   "metadata": {},
   "outputs": [],
   "source": []
  },
  {
   "cell_type": "code",
   "execution_count": null,
   "id": "ca5a790d",
   "metadata": {},
   "outputs": [],
   "source": [
    "# Q-3- Write a Python function that accepts a string and calculate the number of upper case letters and lower case letters.\n",
    "\n",
    "\n",
    "# Sample String : 'The quick Brow Fox'\n",
    "\n",
    "# Expected Output :\n",
    "\n",
    "# No. of Upper case characters : 3\n",
    "\n",
    "# No. of Lower case Characters : 12\n",
    "\n",
    "\n",
    "str_1 = ('The quick Brow Fox:')\n",
    "Upper=0\n",
    "Lower=0\n",
    "for character in str_1:\n",
    "    if character .islower():\n",
    "        LowerC=LowerC+1\n",
    "    else character .isupper():\n",
    "        UpperC=Upperc+1\n",
    "print(\"Lower count: \",lowerc)   \n",
    "print(\"Upper: \",upperc)        \n",
    "        \n"
   ]
  }
 ],
 "metadata": {
  "kernelspec": {
   "display_name": "Python 3 (ipykernel)",
   "language": "python",
   "name": "python3"
  },
  "language_info": {
   "codemirror_mode": {
    "name": "ipython",
    "version": 3
   },
   "file_extension": ".py",
   "mimetype": "text/x-python",
   "name": "python",
   "nbconvert_exporter": "python",
   "pygments_lexer": "ipython3",
   "version": "3.10.2"
  }
 },
 "nbformat": 4,
 "nbformat_minor": 5
}
